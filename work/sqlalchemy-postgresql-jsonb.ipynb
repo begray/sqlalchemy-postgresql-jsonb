{
 "cells": [
  {
   "cell_type": "code",
   "execution_count": 4,
   "metadata": {
    "collapsed": true
   },
   "outputs": [],
   "source": [
    "# set up a connection to a PostgreSQL database running in neighbour container\n",
    "\n",
    "import sqlalchemy\n",
    "\n",
    "connection_string = 'postgresql://postgres:example@db:5432/postgres'\n",
    "\n",
    "db = sqlalchemy.create_engine(connection_string)\n",
    "conn = db.connect()"
   ]
  },
  {
   "cell_type": "code",
   "execution_count": 5,
   "metadata": {},
   "outputs": [],
   "source": [
    "# create a database schema with one table in it\n",
    "\n",
    "from sqlalchemy import Column, Integer, Text\n",
    "from sqlalchemy.dialects.postgresql import JSON, JSONB\n",
    "from sqlalchemy.sql import select, and_, or_, not_\n",
    "\n",
    "meta = sqlalchemy.MetaData(conn)\n",
    "jsontable = sqlalchemy.Table(\"jsonbsample\", meta,\n",
    "                 Column('data', JSONB))\n",
    "meta.drop_all()\n",
    "meta.create_all() "
   ]
  },
  {
   "cell_type": "code",
   "execution_count": 6,
   "metadata": {},
   "outputs": [
    {
     "data": {
      "text/plain": [
       "<sqlalchemy.engine.result.ResultProxy at 0x7f96a80cbbe0>"
      ]
     },
     "execution_count": 6,
     "metadata": {},
     "output_type": "execute_result"
    }
   ],
   "source": [
    "# insert some sample data for experiments\n",
    "\n",
    "conn.execute(jsontable.insert(), [\n",
    "    {'data': {\n",
    "        'name': 'obj-1',\n",
    "        'tags': ['tag-1', 'tag-2'],\n",
    "        'attributes': {\n",
    "            'attr-1': 'value-1',\n",
    "            'attr-num': 123\n",
    "        }\n",
    "    }},\n",
    "    {'data': {\n",
    "        'name': 'obj-2',\n",
    "        'tags': ['tag-2', 'tag-3'],\n",
    "        'attributes': {\n",
    "            'attr-1': 'value-2'\n",
    "        }\n",
    "    }},\n",
    "    {'data': {\n",
    "        'name': 'obj-2',\n",
    "        'tags': ['tag-2', 'tag-3'],\n",
    "        'attributes': {\n",
    "            'attr-1': 'value-2',\n",
    "            'attr-num': 456\n",
    "        }\n",
    "    }}\n",
    "])\n"
   ]
  },
  {
   "cell_type": "code",
   "execution_count": 7,
   "metadata": {},
   "outputs": [
    {
     "data": {
      "text/plain": [
       "[({'name': 'obj-1', 'tags': ['tag-1', 'tag-2'], 'attributes': {'attr-1': 'value-1', 'attr-num': 123}},),\n",
       " ({'name': 'obj-2', 'tags': ['tag-2', 'tag-3'], 'attributes': {'attr-1': 'value-2'}},),\n",
       " ({'name': 'obj-2', 'tags': ['tag-2', 'tag-3'], 'attributes': {'attr-1': 'value-2', 'attr-num': 456}},)]"
      ]
     },
     "execution_count": 7,
     "metadata": {},
     "output_type": "execute_result"
    }
   ],
   "source": [
    "# select back all the inserted objects, just to see what's currently in db\n",
    "\n",
    "q1 = select([jsontable])\n",
    "conn.execute(q1).fetchall()"
   ]
  },
  {
   "cell_type": "code",
   "execution_count": 8,
   "metadata": {},
   "outputs": [
    {
     "name": "stdout",
     "output_type": "stream",
     "text": [
      "SELECT jsonbsample.data \n",
      "FROM jsonbsample \n",
      "WHERE (jsonbsample.data #>> %(data_1)s) = %(param_1)s\n"
     ]
    },
    {
     "data": {
      "text/plain": [
       "[({'name': 'obj-1', 'tags': ['tag-1', 'tag-2'], 'attributes': {'attr-1': 'value-1', 'attr-num': 123}},)]"
      ]
     },
     "execution_count": 8,
     "metadata": {},
     "output_type": "execute_result"
    }
   ],
   "source": [
    "# query by attribute values deep inside object structure\n",
    "\n",
    "q2 = select([jsontable]).where(\n",
    "    jsontable.c.data[('attributes', 'attr-1')].astext == 'value-1'\n",
    ")\n",
    "print(q2)\n",
    "conn.execute(q2).fetchall()"
   ]
  },
  {
   "cell_type": "code",
   "execution_count": 10,
   "metadata": {},
   "outputs": [
    {
     "name": "stdout",
     "output_type": "stream",
     "text": [
      "SELECT jsonbsample.data \n",
      "FROM jsonbsample \n",
      "WHERE jsonbsample.data #>> %(data_1)s ILIKE %(param_1)s\n"
     ]
    },
    {
     "data": {
      "text/plain": [
       "[({'name': 'obj-2', 'tags': ['tag-2', 'tag-3'], 'attributes': {'attr-1': 'value-2'}},),\n",
       " ({'name': 'obj-2', 'tags': ['tag-2', 'tag-3'], 'attributes': {'attr-1': 'value-2', 'attr-num': 456}},)]"
      ]
     },
     "execution_count": 10,
     "metadata": {},
     "output_type": "execute_result"
    }
   ],
   "source": [
    "# query using ILIKE operator\n",
    "\n",
    "q3 = select([jsontable]).where(\n",
    "    jsontable.c.data[('attributes', 'attr-1')].astext.ilike('%lUE-2%')\n",
    ")\n",
    "print(q3)\n",
    "conn.execute(q3).fetchall()\n"
   ]
  },
  {
   "cell_type": "code",
   "execution_count": 11,
   "metadata": {},
   "outputs": [
    {
     "name": "stdout",
     "output_type": "stream",
     "text": [
      "SELECT jsonbsample.data \n",
      "FROM jsonbsample \n",
      "WHERE ((jsonbsample.data -> %(data_1)s)) ? %(param_1)s\n"
     ]
    },
    {
     "data": {
      "text/plain": [
       "[({'name': 'obj-2', 'tags': ['tag-2', 'tag-3'], 'attributes': {'attr-1': 'value-2'}},),\n",
       " ({'name': 'obj-2', 'tags': ['tag-2', 'tag-3'], 'attributes': {'attr-1': 'value-2', 'attr-num': 456}},)]"
      ]
     },
     "execution_count": 11,
     "metadata": {},
     "output_type": "execute_result"
    }
   ],
   "source": [
    "# filter by presence of a specified tag inside array of tags\n",
    "\n",
    "q4 = jsontable.select().where(\n",
    "    jsontable.c.data['tags'].has_key('tag-3')\n",
    ")\n",
    "print(q4)\n",
    "conn.execute(q4).fetchall()\n"
   ]
  },
  {
   "cell_type": "code",
   "execution_count": null,
   "metadata": {
    "collapsed": true
   },
   "outputs": [],
   "source": []
  }
 ],
 "metadata": {
  "kernelspec": {
   "display_name": "Python 3",
   "language": "python",
   "name": "python3"
  },
  "language_info": {
   "codemirror_mode": {
    "name": "ipython",
    "version": 3
   },
   "file_extension": ".py",
   "mimetype": "text/x-python",
   "name": "python",
   "nbconvert_exporter": "python",
   "pygments_lexer": "ipython3",
   "version": "3.6.2"
  }
 },
 "nbformat": 4,
 "nbformat_minor": 2
}
